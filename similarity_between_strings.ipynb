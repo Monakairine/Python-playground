{
  "nbformat": 4,
  "nbformat_minor": 0,
  "metadata": {
    "colab": {
      "provenance": [],
      "authorship_tag": "ABX9TyOxh1rx/+Y4KPyWx8nlzxR6",
      "include_colab_link": true
    },
    "kernelspec": {
      "name": "python3",
      "display_name": "Python 3"
    },
    "language_info": {
      "name": "python"
    }
  },
  "cells": [
    {
      "cell_type": "markdown",
      "metadata": {
        "id": "view-in-github",
        "colab_type": "text"
      },
      "source": [
        "<a href=\"https://colab.research.google.com/github/Monakairine/python-notebooks/blob/main/similarity_between_strings.ipynb\" target=\"_parent\"><img src=\"https://colab.research.google.com/assets/colab-badge.svg\" alt=\"Open In Colab\"/></a>"
      ]
    },
    {
      "cell_type": "markdown",
      "source": [
        "## Levenshtein distance\n",
        "**Levenshtein distance** is a way to measure the similarity between two strings. It tells you how many steps it would take to turn one string into another.\n",
        "\n",
        "The Levenshtein distance is the minimum number of single-character edits (insertions, deletions or substitutions) required to change one word into the other.\n",
        "\n",
        "For example, the Levenshtein distance between the words \"kitten\" and \"sitting\" is 3, because you would need to change \"k\" to \"s\", \"e\" to \"i\", and delete \"n\" from the end.\n",
        "\n"
      ],
      "metadata": {
        "id": "FIcd0mqNw17-"
      }
    },
    {
      "cell_type": "code",
      "source": [
        "# pip install Levenshtein\n",
        "\n",
        "import pandas as pd\n",
        "import Levenshtein as lev\n",
        "\n",
        "#Examples:\n",
        "print(lev.distance('kitten', 'kitten'))\n",
        "print(lev.distance('kitten', 'sitten'))\n",
        "print(lev.distance('kitten', 'sitting'))"
      ],
      "metadata": {
        "colab": {
          "base_uri": "https://localhost:8080/"
        },
        "id": "TTJlPsBJv7PE",
        "outputId": "275ddce4-9827-44c6-dcf8-9289ee0089ca"
      },
      "execution_count": 27,
      "outputs": [
        {
          "output_type": "stream",
          "name": "stdout",
          "text": [
            "0\n",
            "1\n",
            "3\n"
          ]
        }
      ]
    },
    {
      "cell_type": "code",
      "source": [
        "data = {'SKU': ['apple', 'banana', 'orange', 'banana', 'orange', 'lemon', 'lemo', 'aple', 'banan', 'bana', 'orag', 'nabana']}\n",
        "df = pd.DataFrame(data)\n",
        "\n",
        "grouped_skus = {}\n",
        "\n",
        "for sku in df['SKU']:\n",
        "    # Initialize a variable to store the closest match\n",
        "    closest_match = None\n",
        "    closest_distance = float(\"inf\")\n",
        "    for group in grouped_skus:\n",
        "        # Calculate the Levenshtein distance\n",
        "        distance = lev.distance(sku, group)\n",
        "        if distance < closest_distance:\n",
        "            closest_distance = distance\n",
        "            closest_match = group\n",
        "    if closest_distance <= 2:\n",
        "        grouped_skus[closest_match].append(sku)\n",
        "    else:\n",
        "        grouped_skus[sku] = [sku]\n",
        "\n",
        "grouped_skus"
      ],
      "metadata": {
        "colab": {
          "base_uri": "https://localhost:8080/"
        },
        "id": "d9hKcS7Vv4sB",
        "outputId": "9d771579-8c13-411e-8051-be0921ec1658"
      },
      "execution_count": 29,
      "outputs": [
        {
          "output_type": "execute_result",
          "data": {
            "text/plain": [
              "{'apple': ['apple', 'aple'],\n",
              " 'banana': ['banana', 'banana', 'banan', 'bana', 'nabana'],\n",
              " 'orange': ['orange', 'orange', 'orag'],\n",
              " 'lemon': ['lemon', 'lemo']}"
            ]
          },
          "metadata": {},
          "execution_count": 29
        }
      ]
    },
    {
      "cell_type": "code",
      "source": [],
      "metadata": {
        "id": "JKtr2kyRwSjI"
      },
      "execution_count": null,
      "outputs": []
    }
  ]
}